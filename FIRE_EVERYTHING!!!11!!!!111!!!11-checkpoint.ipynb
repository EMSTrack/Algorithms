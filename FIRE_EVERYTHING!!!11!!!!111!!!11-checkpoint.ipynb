{
 "cells": [
  {
   "cell_type": "code",
   "execution_count": 1,
   "metadata": {},
   "outputs": [],
   "source": [
    "import subprocess\n",
    "from termcolor import colored\n",
    "import numpy as np\n",
    "\n",
    "def run_command(command, output_file):\n",
    "    # Type checking because no mistakes when running shell commands~~~!!!!!\n",
    "    \n",
    "    assert type(command) is str \n",
    "    assert type(output_file) is str\n",
    "    assert command is not None \n",
    "    assert output_file is not None\n",
    "    \n",
    "    # Run the command, standard out as bytes to file whose name is specified in the argument\n",
    "    with open(output_file, 'w') as out_file:\n",
    "        c = command.replace('\\n', '').split(' ')\n",
    "        print(c)\n",
    "        p = subprocess.Popen(c, stdout=out_file, stderr=out_file)\n",
    "#         p.wait()\n",
    "        # out = p.stdout.read()\n",
    "        print(\"Write to file.\")\n",
    "        # out_file.write(out)\n",
    "    print (\"To determine the output, run: \\n\\n\" + colored('cat ' + output_file, 'green', attrs=['bold']))"
   ]
  },
  {
   "cell_type": "code",
   "execution_count": 2,
   "metadata": {},
   "outputs": [
    {
     "name": "stdout",
     "output_type": "stream",
     "text": [
      "Parameters:  [[ 3  3]\n",
      " [ 3  7]\n",
      " [ 3 11]\n",
      " [ 7  3]\n",
      " [ 7  7]\n",
      " [ 7 11]\n",
      " [11  3]\n",
      " [11  7]\n",
      " [11 11]]\n",
      "\n",
      "Length:  9\n"
     ]
    }
   ],
   "source": [
    "settings = ' small_hans '\n",
    "configurations = dict()\n",
    "\n",
    "lots_of_parameters = [(number_of_ambulances, number_of_bases) \\\n",
    "                      for number_of_ambulances in range(3, 14, 4) \\\n",
    "                      for number_of_bases in range(3, 14, 4)]\n",
    "\n",
    "print('Parameters: ', np.array(lots_of_parameters))\n",
    "print()\n",
    "print('Length: ', len(lots_of_parameters))"
   ]
  },
  {
   "cell_type": "code",
   "execution_count": 3,
   "metadata": {},
   "outputs": [
    {
     "name": "stdout",
     "output_type": "stream",
     "text": [
      "['python3', 'main.py', '--settings', 'hans', '--ambulances', '3', '--bases', '3']\n",
      "Write to file.\n",
      "To determine the output, run: \n",
      "\n",
      "\u001b[1m\u001b[32mcat results/small_3_3.txt\u001b[0m\n",
      "[]\n"
     ]
    }
   ],
   "source": [
    "r = 'results/'\n",
    "\n",
    "run_command(\n",
    "    ('python3 main.py --settings hans --ambulances 3 --bases 3'),\n",
    "    r + 'small_3_3.txt'\n",
    ")\n",
    "\n",
    "with open (r + 'small_3_3.txt', 'rb') as o_file:\n",
    "    print(o_file.readlines())"
   ]
  },
  {
   "cell_type": "code",
   "execution_count": 4,
   "metadata": {},
   "outputs": [
    {
     "name": "stdout",
     "output_type": "stream",
     "text": [
      "['python3', 'main.py', '--settings', 'hans', '--ambulances', '5', '--bases', '5']\n",
      "Write to file.\n",
      "To determine the output, run: \n",
      "\n",
      "\u001b[1m\u001b[32mcat results/small_5_5.txt\u001b[0m\n",
      "[]\n"
     ]
    }
   ],
   "source": [
    "run_command(\n",
    "    ('python3 main.py --settings hans --ambulances 5 --bases 5'),\n",
    "    r + 'small_5_5.txt'\n",
    ")\n",
    "\n",
    "with open (r + 'small_5_5.txt', 'rb') as o_file:\n",
    "    print(o_file.readlines())"
   ]
  },
  {
   "cell_type": "code",
   "execution_count": 5,
   "metadata": {},
   "outputs": [
    {
     "name": "stdout",
     "output_type": "stream",
     "text": [
      "['python3', 'main.py', '--settings', 'hans', '--ambulances', '7', '--bases', '7']\n",
      "Write to file.\n",
      "To determine the output, run: \n",
      "\n",
      "\u001b[1m\u001b[32mcat results/small_7_7.txt\u001b[0m\n",
      "[]\n"
     ]
    }
   ],
   "source": [
    "run_command(\n",
    "    ('python3 main.py --settings hans --ambulances 7 --bases 7'),\n",
    "    r + 'small_7_7.txt'\n",
    ")\n",
    "\n",
    "with open (r + 'small_7_7.txt', 'rb') as o_file:\n",
    "    print(o_file.readlines())"
   ]
  },
  {
   "cell_type": "code",
   "execution_count": 6,
   "metadata": {},
   "outputs": [
    {
     "name": "stdout",
     "output_type": "stream",
     "text": [
      "['python3', 'main.py', '--settings', 'hans', '--ambulances', '9', '--bases', '9']\n",
      "Write to file.\n",
      "To determine the output, run: \n",
      "\n",
      "\u001b[1m\u001b[32mcat results/small_9_9.txt\u001b[0m\n",
      "[]\n"
     ]
    }
   ],
   "source": [
    "run_command(\n",
    "    ('python3 main.py --settings hans --ambulances 9 --bases 9'),\n",
    "    r + 'small_9_9.txt'\n",
    ")\n",
    "\n",
    "with open (r + 'small_9_9.txt', 'rb') as o_file:\n",
    "    print(o_file.readlines())"
   ]
  }
 ],
 "metadata": {
  "kernelspec": {
   "display_name": "Python 3",
   "language": "python",
   "name": "python3"
  },
  "language_info": {
   "codemirror_mode": {
    "name": "ipython",
    "version": 3
   },
   "file_extension": ".py",
   "mimetype": "text/x-python",
   "name": "python",
   "nbconvert_exporter": "python",
   "pygments_lexer": "ipython3",
   "version": "3.6.5"
  }
 },
 "nbformat": 4,
 "nbformat_minor": 2
}
