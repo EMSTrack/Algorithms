{
 "cells": [
  {
   "cell_type": "code",
   "execution_count": 1,
   "metadata": {},
   "outputs": [],
   "source": [
    "import subprocess\n",
    "from termcolor import colored\n",
    "import numpy as np\n",
    "\n",
    "def run_command(command, output_file):\n",
    "    # Type checking because no mistakes when running shell commands~~~!!!!!\n",
    "    \n",
    "    assert type(command) is str \n",
    "    assert type(output_file) is str\n",
    "    assert command is not None \n",
    "    assert output_file is not None\n",
    "    \n",
    "    # Run the command, standard out as bytes to file whose name is specified in the argument\n",
    "    with open(output_file, 'wb') as out_file:\n",
    "        p = subprocess.Popen(command.split(' '), stdout=subprocess.PIPE)\n",
    "        out = p.stdout.read()\n",
    "        out_file.write(out)\n",
    "    print (\"To determine the output, run: \\n\\n\" + colored('cat ' + output_file, 'green', attrs=['bold']))"
   ]
  },
  {
   "cell_type": "code",
   "execution_count": 2,
   "metadata": {},
   "outputs": [
    {
     "name": "stdout",
     "output_type": "stream",
     "text": [
      "Parameters:  [[ 1  1]\n",
      " [ 1  4]\n",
      " [ 1  7]\n",
      " [ 1 10]\n",
      " [ 1 13]\n",
      " [ 4  1]\n",
      " [ 4  4]\n",
      " [ 4  7]\n",
      " [ 4 10]\n",
      " [ 4 13]\n",
      " [ 7  1]\n",
      " [ 7  4]\n",
      " [ 7  7]\n",
      " [ 7 10]\n",
      " [ 7 13]\n",
      " [10  1]\n",
      " [10  4]\n",
      " [10  7]\n",
      " [10 10]\n",
      " [10 13]\n",
      " [13  1]\n",
      " [13  4]\n",
      " [13  7]\n",
      " [13 10]\n",
      " [13 13]]\n",
      "\n",
      "Length:  25\n"
     ]
    }
   ],
   "source": [
    "settings = ' small_hans '\n",
    "configurations = dict()\n",
    "\n",
    "parameters = [(number_of_ambulances, number_of_bases)for number_of_ambulances in range(1, 14, 3) for number_of_bases in range(1, 14, 3)]\n",
    "print('Parameters: ', np.array(parameters))\n",
    "print()\n",
    "print('Length: ', len(parameters))"
   ]
  },
  {
   "cell_type": "code",
   "execution_count": 3,
   "metadata": {},
   "outputs": [
    {
     "name": "stdout",
     "output_type": "stream",
     "text": [
      "To determine the output, run \n",
      "\n",
      "\u001b[1m\u001b[32mcat results/ls.txt\u001b[0m\n"
     ]
    }
   ],
   "source": [
    "run_command('ls -l', 'results/ls.txt')"
   ]
  },
  {
   "cell_type": "code",
   "execution_count": null,
   "metadata": {},
   "outputs": [],
   "source": []
  },
  {
   "cell_type": "code",
   "execution_count": null,
   "metadata": {},
   "outputs": [],
   "source": []
  }
 ],
 "metadata": {
  "kernelspec": {
   "display_name": "Python 3",
   "language": "python",
   "name": "python3"
  },
  "language_info": {
   "codemirror_mode": {
    "name": "ipython",
    "version": 3
   },
   "file_extension": ".py",
   "mimetype": "text/x-python",
   "name": "python",
   "nbconvert_exporter": "python",
   "pygments_lexer": "ipython3",
   "version": "3.6.5"
  }
 },
 "nbformat": 4,
 "nbformat_minor": 2
}
