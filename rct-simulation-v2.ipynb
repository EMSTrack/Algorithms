{
 "cells": [
  {
   "cell_type": "markdown",
   "metadata": {},
   "source": [
    "# Simulation of RCT EMS v2\n",
    "\n",
    "Want to graph:\n",
    " - Travel Times\n",
    " - Coverages"
   ]
  },
  {
   "cell_type": "code",
   "execution_count": 1,
   "metadata": {},
   "outputs": [],
   "source": [
    "%matplotlib notebook\n",
    "import pandas\n",
    "import matplotlib.pyplot as plt\n",
    "from datetime import datetime\n",
    "from datetime import timedelta\n",
    "from sys import argv\n",
    "import scipy.stats as stats\n",
    "import numpy as np\n",
    "from numpy import median, mean\n",
    "from functools import reduce\n",
    "from collections import Counter\n",
    "from os import listdir\n",
    "\n",
    "import subprocess\n"
   ]
  },
  {
   "cell_type": "markdown",
   "metadata": {},
   "source": [
    "# Execute the Simulator\n",
    "## Print the results"
   ]
  },
  {
   "cell_type": "code",
   "execution_count": null,
   "metadata": {},
   "outputs": [
    {
     "name": "stdout",
     "output_type": "stream",
     "text": [
      "python3 run.py configurations/exp-scenarios/tj.yaml\n"
     ]
    }
   ],
   "source": [
    "commands = [\n",
    "    'python3 run.py configurations/exp-scenarios/tj.yaml'\n",
    "]\n",
    "\n",
    "for c in commands:\n",
    "    print(c)\n",
    "    p = subprocess.Popen(c.split(' '), stdout=subprocess.PIPE, stderr=subprocess.PIPE)\n",
    "    p.communicate()\n",
    "    print(\"Done.\")\n",
    "    "
   ]
  },
  {
   "cell_type": "code",
   "execution_count": null,
   "metadata": {},
   "outputs": [],
   "source": [
    "results = 'results/tijuana-multi-scenario/'\n",
    "csvs = []\n",
    "for f in listdir(results):\n",
    "    \n",
    "    path = results + f\n",
    "    print(path)\n",
    "    p = pandas.read_csv(path)\n",
    "    csvs.append(p)\n"
   ]
  },
  {
   "cell_type": "code",
   "execution_count": null,
   "metadata": {},
   "outputs": [],
   "source": [
    "csvs[0]"
   ]
  },
  {
   "cell_type": "code",
   "execution_count": null,
   "metadata": {},
   "outputs": [],
   "source": [
    "csvs[1]"
   ]
  },
  {
   "cell_type": "code",
   "execution_count": null,
   "metadata": {
    "scrolled": true
   },
   "outputs": [],
   "source": [
    "csvs[2]"
   ]
  },
  {
   "cell_type": "code",
   "execution_count": null,
   "metadata": {},
   "outputs": [],
   "source": [
    "csvs[3]"
   ]
  },
  {
   "cell_type": "code",
   "execution_count": null,
   "metadata": {},
   "outputs": [],
   "source": [
    "csvs[4]"
   ]
  },
  {
   "cell_type": "markdown",
   "metadata": {},
   "source": [
    "# Want to see number of events per hour."
   ]
  },
  {
   "cell_type": "code",
   "execution_count": null,
   "metadata": {},
   "outputs": [],
   "source": [
    "cases = csvs[1]\n",
    "dates = [datetime.strptime(arr[1], '%Y-%m-%d %H:%M:%S.%f').replace(\n",
    "minute=0, second=0, microsecond=0) for arr in cases.values]\n",
    "dates"
   ]
  },
  {
   "cell_type": "code",
   "execution_count": null,
   "metadata": {},
   "outputs": [],
   "source": [
    "dates[0] == dates[1]"
   ]
  },
  {
   "cell_type": "code",
   "execution_count": null,
   "metadata": {},
   "outputs": [],
   "source": [
    "dates[6] - dates[0]"
   ]
  },
  {
   "cell_type": "code",
   "execution_count": null,
   "metadata": {},
   "outputs": [],
   "source": [
    "first = dates[0]\n",
    "\n",
    "deltas = [(date-first).total_seconds()/3600 for date in dates]\n",
    "deltas"
   ]
  },
  {
   "cell_type": "code",
   "execution_count": null,
   "metadata": {
    "scrolled": true
   },
   "outputs": [],
   "source": [
    "c = Counter(deltas)\n",
    "c, sum(c.values())"
   ]
  },
  {
   "cell_type": "code",
   "execution_count": null,
   "metadata": {},
   "outputs": [],
   "source": [
    "plt.figure(\"bar graph\")\n",
    "plt.bar(c.keys(), c.values())\n",
    "plt.show"
   ]
  },
  {
   "cell_type": "code",
   "execution_count": null,
   "metadata": {},
   "outputs": [],
   "source": [
    "plt.figure('histogram')\n",
    "l = list(deltas)\n",
    "\n",
    "\n",
    "mu, sigma = stats.norm.fit(deltas)\n",
    "xs = np.linspace(stats.norm.ppf(0.01,loc=mu,scale=sigma),\n",
    "                 stats.norm.ppf(0.9999,loc=mu,scale=sigma),int(max(deltas)))\n",
    "\n",
    "ys = stats.norm.pdf(xs,loc=mu,scale=sigma)\n",
    "\n",
    "plt.plot(xs, ys, '-')\n",
    "\n",
    "plt.hist(deltas, bins=int(max(deltas)+ 1 ), histtype='step', normed=1)\n",
    "plt.show()"
   ]
  },
  {
   "cell_type": "markdown",
   "metadata": {},
   "source": [
    "## Read data and organize\n",
    "\n",
    "Read as a list of dicts so that the same index/object is used for each row."
   ]
  },
  {
   "cell_type": "code",
   "execution_count": null,
   "metadata": {},
   "outputs": [],
   "source": [
    "# Read pandas CSV file \n",
    "def read_csv_as_list_of_dicts(filename):\n",
    "    return "
   ]
  },
  {
   "cell_type": "code",
   "execution_count": null,
   "metadata": {},
   "outputs": [],
   "source": [
    "# Read the specific files\n",
    "filenames = [\n",
    "    \"\"\n",
    "]"
   ]
  },
  {
   "cell_type": "markdown",
   "metadata": {},
   "source": [
    "## Restructure the data that is easy for the matplotlib\n",
    "Want lists of xs and ys."
   ]
  },
  {
   "cell_type": "code",
   "execution_count": null,
   "metadata": {},
   "outputs": [],
   "source": [
    "def restructure_times():\n",
    "    return"
   ]
  },
  {
   "cell_type": "code",
   "execution_count": null,
   "metadata": {},
   "outputs": [],
   "source": [
    "def restructure_coverage():\n",
    "    return"
   ]
  },
  {
   "cell_type": "markdown",
   "metadata": {},
   "source": [
    "## Plot them. \n",
    "Want multiple plots per graph. Request asked for 1 graph, but still seems to make sense to have 4 graphs."
   ]
  },
  {
   "cell_type": "code",
   "execution_count": null,
   "metadata": {},
   "outputs": [],
   "source": [
    "def plot_times():\n",
    "    return"
   ]
  },
  {
   "cell_type": "code",
   "execution_count": null,
   "metadata": {},
   "outputs": [],
   "source": [
    "def plot_coverage():\n",
    "    return"
   ]
  },
  {
   "cell_type": "code",
   "execution_count": null,
   "metadata": {},
   "outputs": [],
   "source": []
  }
 ],
 "metadata": {
  "kernelspec": {
   "display_name": "Python 3",
   "language": "python",
   "name": "python3"
  },
  "language_info": {
   "codemirror_mode": {
    "name": "ipython",
    "version": 3
   },
   "file_extension": ".py",
   "mimetype": "text/x-python",
   "name": "python",
   "nbconvert_exporter": "python",
   "pygments_lexer": "ipython3",
   "version": "3.7.0"
  }
 },
 "nbformat": 4,
 "nbformat_minor": 2
}
