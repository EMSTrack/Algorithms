{
 "cells": [
  {
   "cell_type": "markdown",
   "metadata": {},
   "source": [
    "# Simulation of RCT EMS v2\n",
    "\n",
    "Want to graph:\n",
    " - Travel Times\n",
    " - Coverages"
   ]
  },
  {
   "cell_type": "code",
   "execution_count": 1,
   "metadata": {},
   "outputs": [],
   "source": [
    "# %matplotlib notebook\n",
    "\n",
    "import pandas\n",
    "import matplotlib.pyplot as plt\n",
    "from datetime import datetime\n",
    "from datetime import timedelta\n",
    "from sys import argv\n",
    "import scipy.stats as stats\n",
    "from scipy.interpolate import make_interp_spline, BSpline\n",
    "import numpy as np\n",
    "from numpy import median, mean\n",
    "from functools import reduce\n",
    "from collections import Counter\n",
    "from os import listdir\n",
    "\n",
    "import subprocess\n"
   ]
  },
  {
   "cell_type": "markdown",
   "metadata": {},
   "source": [
    "# Execute the Simulator\n",
    "## Print the results"
   ]
  },
  {
   "cell_type": "code",
   "execution_count": 2,
   "metadata": {},
   "outputs": [
    {
     "name": "stdout",
     "output_type": "stream",
     "text": [
      "python3 run.py configurations/exp-scenarios/tj.yaml\n",
      "Done.\n"
     ]
    }
   ],
   "source": [
    "commands = [\n",
    "    'python3 run.py configurations/exp-scenarios/tj.yaml'\n",
    "]\n",
    "\n",
    "for c in commands:\n",
    "    print(c)\n",
    "    p = subprocess.Popen(c.split(' '), stdout=subprocess.PIPE, stderr=subprocess.PIPE)\n",
    "    p.communicate()\n",
    "    print(\"Done.\")\n",
    "    "
   ]
  },
  {
   "cell_type": "code",
   "execution_count": 3,
   "metadata": {},
   "outputs": [
    {
     "name": "stdout",
     "output_type": "stream",
     "text": [
      "results/tijuana-multi-scenario/chosen_hospitals.csv\n",
      "results/tijuana-multi-scenario/processed_cases.csv\n",
      "results/tijuana-multi-scenario/metrics.csv\n",
      "results/tijuana-multi-scenario/chosen_ambulances.csv\n",
      "results/tijuana-multi-scenario/chosen_bases.csv\n"
     ]
    }
   ],
   "source": [
    "results = 'results/tijuana-multi-scenario/'\n",
    "csvs = []\n",
    "for f in listdir(results):\n",
    "    \n",
    "    path = results + f\n",
    "    print(path)\n",
    "    p = pandas.read_csv(path)\n",
    "    csvs.append(p)\n"
   ]
  },
  {
   "cell_type": "code",
   "execution_count": 4,
   "metadata": {},
   "outputs": [],
   "source": [
    "# csvs[0]"
   ]
  },
  {
   "cell_type": "code",
   "execution_count": 5,
   "metadata": {},
   "outputs": [],
   "source": [
    "# csvs[1]"
   ]
  },
  {
   "cell_type": "code",
   "execution_count": 6,
   "metadata": {
    "scrolled": true
   },
   "outputs": [],
   "source": [
    "# csvs[2]"
   ]
  },
  {
   "cell_type": "code",
   "execution_count": 7,
   "metadata": {},
   "outputs": [],
   "source": [
    "# csvs[3]"
   ]
  },
  {
   "cell_type": "code",
   "execution_count": 8,
   "metadata": {},
   "outputs": [],
   "source": [
    "# csvs[4]"
   ]
  },
  {
   "cell_type": "markdown",
   "metadata": {},
   "source": [
    "# Want to see number of events per hour."
   ]
  },
  {
   "cell_type": "code",
   "execution_count": 9,
   "metadata": {},
   "outputs": [],
   "source": [
    "cases = csvs[1]\n",
    "dates = [datetime.strptime(arr[1], '%Y-%m-%d %H:%M:%S.%f').replace(\n",
    "minute=0, second=0, microsecond=0) for arr in cases.values]\n"
   ]
  },
  {
   "cell_type": "code",
   "execution_count": 10,
   "metadata": {},
   "outputs": [],
   "source": [
    "# matplotlib does not play well with datetimes\n",
    "\n",
    "first = dates[0]\n",
    "deltas = [(date-first).total_seconds()/3600 for date in dates]\n"
   ]
  },
  {
   "cell_type": "code",
   "execution_count": 11,
   "metadata": {
    "scrolled": true
   },
   "outputs": [
    {
     "data": {
      "text/plain": [
       "(100,\n",
       " Counter({0.0: 1,\n",
       "          2.0: 1,\n",
       "          8.0: 1,\n",
       "          9.0: 2,\n",
       "          10.0: 2,\n",
       "          11.0: 3,\n",
       "          12.0: 3,\n",
       "          13.0: 1,\n",
       "          14.0: 2,\n",
       "          16.0: 3,\n",
       "          17.0: 1,\n",
       "          18.0: 2,\n",
       "          19.0: 4,\n",
       "          22.0: 1,\n",
       "          23.0: 2,\n",
       "          24.0: 5,\n",
       "          28.0: 2,\n",
       "          29.0: 1,\n",
       "          30.0: 1,\n",
       "          31.0: 1,\n",
       "          32.0: 2,\n",
       "          34.0: 1,\n",
       "          35.0: 1,\n",
       "          36.0: 1,\n",
       "          37.0: 1,\n",
       "          38.0: 1,\n",
       "          39.0: 1,\n",
       "          40.0: 4,\n",
       "          42.0: 1,\n",
       "          44.0: 2,\n",
       "          45.0: 1,\n",
       "          46.0: 3,\n",
       "          47.0: 1,\n",
       "          48.0: 1,\n",
       "          49.0: 1,\n",
       "          51.0: 1,\n",
       "          53.0: 2,\n",
       "          54.0: 1,\n",
       "          56.0: 1,\n",
       "          57.0: 2,\n",
       "          58.0: 4,\n",
       "          59.0: 2,\n",
       "          60.0: 1,\n",
       "          62.0: 2,\n",
       "          63.0: 3,\n",
       "          64.0: 2,\n",
       "          65.0: 2,\n",
       "          66.0: 1,\n",
       "          68.0: 1,\n",
       "          69.0: 3,\n",
       "          70.0: 2,\n",
       "          71.0: 2,\n",
       "          73.0: 1,\n",
       "          74.0: 1,\n",
       "          76.0: 1,\n",
       "          78.0: 2,\n",
       "          79.0: 1,\n",
       "          80.0: 1}))"
      ]
     },
     "execution_count": 11,
     "metadata": {},
     "output_type": "execute_result"
    }
   ],
   "source": [
    "c = Counter(deltas)\n",
    "sum(c.values()), c "
   ]
  },
  {
   "cell_type": "code",
   "execution_count": 12,
   "metadata": {
    "scrolled": false
   },
   "outputs": [
    {
     "data": {
      "image/png": "[encoded data removed]",
      "text/plain": [
       "<Figure size 432x288 with 1 Axes>"
      ]
     },
     "metadata": {},
     "output_type": "display_data"
    },
    {
     "data": {
      "image/png": "[encoded data removed]",
      "text/plain": [
       "<Figure size 432x288 with 1 Axes>"
      ]
     },
     "metadata": {},
     "output_type": "display_data"
    }
   ],
   "source": [
    "l = list(deltas)\n",
    "\n",
    "plt.figure(\"Histogram: The number of cases per hour\")\n",
    "ys, xs, patches = plt.hist(deltas, bins=int((max(deltas)+1)/1), histtype='step')\n",
    "plt.show()\n",
    "ys = np.append(ys, [0])\n",
    "\n",
    "plt.figure(\"Bar graph: The number of cases per hour\")\n",
    "plt.bar(c.keys(), c.values())\n",
    "\n",
    "plt.show()\n"
   ]
  },
  {
   "cell_type": "code",
   "execution_count": 27,
   "metadata": {
    "scrolled": false
   },
   "outputs": [
    {
     "data": {
      "image/png": "[encoded data removed]",
      "text/plain": [
       "<Figure size 432x288 with 1 Axes>"
      ]
     },
     "metadata": {},
     "output_type": "display_data"
    },
    {
     "data": {
      "image/png": "[encoded data removed]",
      "text/plain": [
       "<Figure size 432x288 with 1 Axes>"
      ]
     },
     "metadata": {},
     "output_type": "display_data"
    }
   ],
   "source": [
    "# Smoothed the original\n",
    "smooth_xs = np.linspace(int(min(c.keys())), int(max(c.keys())), len(c.keys()))\n",
    "\n",
    "spl = make_interp_spline(list(c.keys()), list(c.values()), k=3)\n",
    "smooth_ys = spl(smooth_xs)\n",
    "\n",
    "# plt.figure(\"This is the curve you were looking for.\")\n",
    "# plt.plot(smooth_xs, smooth_ys,)\n",
    "# plt.show()\n",
    "\n",
    "plt.figure(\"overlay\")\n",
    "plt.hist(deltas, bins=int((max(deltas)+1)), histtype='step', color='black')\n",
    "plt.plot(smooth_xs, smooth_ys, '-', color='red')\n",
    "\n",
    "plt.show()\n"
   ]
  },
  {
   "cell_type": "markdown",
   "metadata": {},
   "source": [
    "# Want to see the number of cases that have been reached within r1 and r2"
   ]
  },
  {
   "cell_type": "code",
   "execution_count": 14,
   "metadata": {},
   "outputs": [],
   "source": [
    "# to incident durations\n",
    "durations = [pandas.to_timedelta(array[7]) for array in  cases.values]\n",
    "r1 = timedelta(minutes=10)\n",
    "r2 = timedelta(minutes=14)"
   ]
  },
  {
   "cell_type": "code",
   "execution_count": 15,
   "metadata": {},
   "outputs": [
    {
     "data": {
      "text/plain": [
       "{'lt_r1': 74, 'lt_r2': 95, 'beyond': 5}"
      ]
     },
     "execution_count": 15,
     "metadata": {},
     "output_type": "execute_result"
    }
   ],
   "source": [
    "times = {\n",
    "    'lt_r1' : list(filter(lambda t: t <  r1, durations)),\n",
    "    'lt_r2' : list(filter(lambda t: t <  r2, durations)),\n",
    "    'beyond': list(filter(lambda t: t >= r2, durations)),\n",
    "}\n",
    "\n",
    "counts = {k:len(v) for k,v in times.items()}\n",
    "counts"
   ]
  },
  {
   "cell_type": "code",
   "execution_count": 16,
   "metadata": {},
   "outputs": [
    {
     "data": {
      "image/png": "[encoded data removed]",
      "text/plain": [
       "<Figure size 432x288 with 1 Axes>"
      ]
     },
     "metadata": {},
     "output_type": "display_data"
    }
   ],
   "source": [
    "plt.figure(\"Travel times for the TO_INCIDENT events \")\n",
    "\n",
    "plt.bar(counts.keys(), counts.values())\n",
    "\n",
    "plt.show()"
   ]
  },
  {
   "cell_type": "markdown",
   "metadata": {},
   "source": [
    "# Want to plot the histogram for the coverage"
   ]
  },
  {
   "cell_type": "code",
   "execution_count": 37,
   "metadata": {},
   "outputs": [
    {
     "data": {
      "image/png": "[encoded data removed]",
      "text/plain": [
       "<Figure size 432x288 with 1 Axes>"
      ]
     },
     "metadata": {},
     "output_type": "display_data"
    }
   ],
   "source": [
    "metrics = csvs[2]\n",
    "coverages = [(pandas.to_datetime(arr[0]), float(arr[1])) for arr in metrics.values]\n",
    "\n",
    "xs = [cov[0] for cov in coverages]\n",
    "ys = [cov[1] for cov in coverages]\n",
    "\n",
    "# list(map(print, xs))\n",
    "# list(map(print, ys))\n",
    "\n",
    "first = xs[0]\n",
    "xs = [(date-first).total_seconds()/3600 for date in xs]\n",
    "\n",
    "# Smoothed the original\n",
    "smooth_xs = np.linspace(int(min(xs)), int(max(xs)), len(xs)//50)\n",
    "\n",
    "spl = make_interp_spline(xs, ys, k=3)\n",
    "smooth_ys = spl(smooth_xs)\n",
    "\n",
    "\n",
    "plt.figure(\"Coverages over time \")\n",
    "plt.ylim(-0.1, 1.0)\n",
    "plt.plot(xs, ys, 'black')\n",
    "plt.plot(smooth_xs, smooth_ys, '--', color='red')\n",
    "plt.show()"
   ]
  },
  {
   "cell_type": "markdown",
   "metadata": {},
   "source": [
    "## Read data and organize\n",
    "\n",
    "Read as a list of dicts so that the same index/object is used for each row."
   ]
  },
  {
   "cell_type": "code",
   "execution_count": 18,
   "metadata": {},
   "outputs": [],
   "source": [
    "# Read pandas CSV file \n",
    "def read_csv_as_list_of_dicts(filename):\n",
    "    return "
   ]
  },
  {
   "cell_type": "code",
   "execution_count": 19,
   "metadata": {},
   "outputs": [],
   "source": [
    "# Read the specific files\n",
    "filenames = [\n",
    "    \"\"\n",
    "]"
   ]
  },
  {
   "cell_type": "markdown",
   "metadata": {},
   "source": [
    "## Restructure the data that is easy for the matplotlib\n",
    "Want lists of xs and ys."
   ]
  },
  {
   "cell_type": "code",
   "execution_count": 20,
   "metadata": {},
   "outputs": [],
   "source": [
    "def restructure_times():\n",
    "    return"
   ]
  },
  {
   "cell_type": "code",
   "execution_count": 21,
   "metadata": {},
   "outputs": [],
   "source": [
    "def restructure_coverage():\n",
    "    return"
   ]
  },
  {
   "cell_type": "markdown",
   "metadata": {},
   "source": [
    "## Plot them. \n",
    "Want multiple plots per graph. Request asked for 1 graph, but still seems to make sense to have 4 graphs."
   ]
  },
  {
   "cell_type": "code",
   "execution_count": 22,
   "metadata": {},
   "outputs": [],
   "source": [
    "def plot_times():\n",
    "    return"
   ]
  },
  {
   "cell_type": "code",
   "execution_count": 23,
   "metadata": {},
   "outputs": [],
   "source": [
    "def plot_coverage():\n",
    "    return"
   ]
  },
  {
   "cell_type": "code",
   "execution_count": null,
   "metadata": {},
   "outputs": [],
   "source": []
  }
 ],
 "metadata": {
  "kernelspec": {
   "display_name": "Python 3",
   "language": "python",
   "name": "python3"
  },
  "language_info": {
   "codemirror_mode": {
    "name": "ipython",
    "version": 3
   },
   "file_extension": ".py",
   "mimetype": "text/x-python",
   "name": "python",
   "nbconvert_exporter": "python",
   "pygments_lexer": "ipython3",
   "version": "3.7.0"
  }
 },
 "nbformat": 4,
 "nbformat_minor": 2
}
