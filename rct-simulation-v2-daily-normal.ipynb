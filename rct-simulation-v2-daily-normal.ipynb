{
 "cells": [
  {
   "cell_type": "markdown",
   "metadata": {},
   "source": [
    "# Simulation of RCT EMS v2 - Weekdays\n",
    "\n",
    "Want to graph:\n",
    " - Travel Times\n",
    " - Coverages"
   ]
  },
  {
   "cell_type": "code",
   "execution_count": 1,
   "metadata": {},
   "outputs": [],
   "source": [
    "%matplotlib notebook\n",
    "\n",
    "import pandas\n",
    "import matplotlib.pyplot as plt\n",
    "from datetime import datetime\n",
    "from datetime import timedelta\n",
    "from sys import argv\n",
    "import scipy.stats as stats\n",
    "from scipy.interpolate import make_interp_spline, BSpline\n",
    "import numpy as np\n",
    "from numpy import median, mean\n",
    "from functools import reduce\n",
    "from collections import Counter\n",
    "from os import listdir\n",
    "\n",
    "import subprocess\n"
   ]
  },
  {
   "cell_type": "markdown",
   "metadata": {},
   "source": [
    "# Execute the Simulator\n",
    "## Print the results"
   ]
  },
  {
   "cell_type": "code",
   "execution_count": 2,
   "metadata": {},
   "outputs": [
    {
     "name": "stdout",
     "output_type": "stream",
     "text": [
      "python3 run.py configurations/exp-scenarios/tj.yaml\n",
      "Done.\n"
     ]
    }
   ],
   "source": [
    "commands = [\n",
    "    'python3 run.py configurations/exp-scenarios/tj.yaml'\n",
    "]\n",
    "\n",
    "for c in commands:\n",
    "    print(c)\n",
    "    p = subprocess.Popen(c.split(' '), stdout=subprocess.PIPE, stderr=subprocess.PIPE)\n",
    "    p.communicate()\n",
    "    print(\"Done.\")\n",
    "    "
   ]
  },
  {
   "cell_type": "code",
   "execution_count": 3,
   "metadata": {},
   "outputs": [
    {
     "ename": "FileNotFoundError",
     "evalue": "[Errno 2] No such file or directory: 'results/tijuana-multi-scenario/'",
     "output_type": "error",
     "traceback": [
      "\u001b[0;31m---------------------------------------------------------------------------\u001b[0m",
      "\u001b[0;31mFileNotFoundError\u001b[0m                         Traceback (most recent call last)",
      "\u001b[0;32m<ipython-input-3-093d9e28b505>\u001b[0m in \u001b[0;36m<module>\u001b[0;34m()\u001b[0m\n\u001b[1;32m      1\u001b[0m \u001b[0mresults\u001b[0m \u001b[0;34m=\u001b[0m \u001b[0;34m'results/tijuana-multi-scenario/'\u001b[0m\u001b[0;34m\u001b[0m\u001b[0m\n\u001b[1;32m      2\u001b[0m \u001b[0mcsvs\u001b[0m \u001b[0;34m=\u001b[0m \u001b[0;34m[\u001b[0m\u001b[0;34m]\u001b[0m\u001b[0;34m\u001b[0m\u001b[0m\n\u001b[0;32m----> 3\u001b[0;31m \u001b[0;32mfor\u001b[0m \u001b[0mf\u001b[0m \u001b[0;32min\u001b[0m \u001b[0mlistdir\u001b[0m\u001b[0;34m(\u001b[0m\u001b[0mresults\u001b[0m\u001b[0;34m)\u001b[0m\u001b[0;34m:\u001b[0m\u001b[0;34m\u001b[0m\u001b[0m\n\u001b[0m\u001b[1;32m      4\u001b[0m \u001b[0;34m\u001b[0m\u001b[0m\n\u001b[1;32m      5\u001b[0m     \u001b[0mpath\u001b[0m \u001b[0;34m=\u001b[0m \u001b[0mresults\u001b[0m \u001b[0;34m+\u001b[0m \u001b[0mf\u001b[0m\u001b[0;34m\u001b[0m\u001b[0m\n",
      "\u001b[0;31mFileNotFoundError\u001b[0m: [Errno 2] No such file or directory: 'results/tijuana-multi-scenario/'"
     ]
    }
   ],
   "source": [
    "results = 'results/tijuana-multi-scenario/'\n",
    "csvs = []\n",
    "for f in listdir(results):\n",
    "    \n",
    "    path = results + f\n",
    "    print(path)\n",
    "    p = pandas.read_csv(path)\n",
    "    csvs.append(p)\n"
   ]
  },
  {
   "cell_type": "code",
   "execution_count": null,
   "metadata": {},
   "outputs": [],
   "source": [
    "# csvs[0]"
   ]
  },
  {
   "cell_type": "code",
   "execution_count": null,
   "metadata": {},
   "outputs": [],
   "source": [
    "# csvs[1]"
   ]
  },
  {
   "cell_type": "code",
   "execution_count": null,
   "metadata": {
    "scrolled": true
   },
   "outputs": [],
   "source": [
    "# csvs[2]"
   ]
  },
  {
   "cell_type": "code",
   "execution_count": null,
   "metadata": {},
   "outputs": [],
   "source": [
    "# csvs[3]"
   ]
  },
  {
   "cell_type": "code",
   "execution_count": null,
   "metadata": {},
   "outputs": [],
   "source": [
    "# csvs[4]"
   ]
  },
  {
   "cell_type": "markdown",
   "metadata": {},
   "source": [
    "# Want to see number of events per hour."
   ]
  },
  {
   "cell_type": "code",
   "execution_count": null,
   "metadata": {},
   "outputs": [],
   "source": [
    "cases = csvs[1]\n",
    "dates = [datetime.strptime(arr[1], '%Y-%m-%d %H:%M:%S.%f').replace(\n",
    "minute=0, second=0, microsecond=0) for arr in cases.values]\n"
   ]
  },
  {
   "cell_type": "code",
   "execution_count": null,
   "metadata": {},
   "outputs": [],
   "source": [
    "# matplotlib does not play well with datetimes\n",
    "\n",
    "first = dates[0]\n",
    "deltas = [(date-first).total_seconds()/3600 for date in dates]\n"
   ]
  },
  {
   "cell_type": "code",
   "execution_count": null,
   "metadata": {
    "scrolled": true
   },
   "outputs": [],
   "source": [
    "c = Counter(deltas)\n",
    "sum(c.values())"
   ]
  },
  {
   "cell_type": "code",
   "execution_count": null,
   "metadata": {
    "scrolled": false
   },
   "outputs": [],
   "source": [
    "l = list(deltas)\n",
    "\n",
    "plt.figure(\"Histogram: The number of cases per hour\")\n",
    "ys, xs, patches = plt.hist(deltas, bins=int((max(deltas)+1)/1), histtype='step')\n",
    "\n",
    "plt.xlabel(\"Number of hours since starting\"); plt.ylabel('Number of cases')\n",
    "plt.ylim(0,10)\n",
    "\n",
    "plt.show()\n",
    "ys = np.append(ys, [0])\n",
    "\n",
    "plt.figure(\"Bar graph: The number of cases per hour\")\n",
    "plt.bar(c.keys(), c.values())\n",
    "\n",
    "plt.xlabel(\"Number of hours since starting\"); plt.ylabel('Number of cases')\n",
    "plt.ylim(0,10)\n",
    "\n",
    "plt.show()\n"
   ]
  },
  {
   "cell_type": "code",
   "execution_count": null,
   "metadata": {
    "scrolled": false
   },
   "outputs": [],
   "source": [
    "# Smoothed the original\n",
    "smooth_xs = np.linspace(int(min(c.keys())), int(max(c.keys())), len(c.keys()))\n",
    "\n",
    "spl = make_interp_spline(list(c.keys()), list(c.values()), k=3)\n",
    "smooth_ys = spl(smooth_xs)\n",
    "\n",
    "# plt.figure(\"This is the curve you were looking for.\")\n",
    "# plt.plot(smooth_xs, smooth_ys,)\n",
    "# plt.show()\n",
    "\n",
    "plt.figure(\"overlay\")\n",
    "plt.hist(deltas, bins=int((max(deltas)+1)), histtype='step', color='black')\n",
    "plt.xlabel(\"Number of hours since starting\"); plt.ylabel('Number of cases')\n",
    "plt.ylim(0,10)\n",
    "plt.plot(smooth_xs, smooth_ys, '-', color='red')\n",
    "\n",
    "plt.show()\n"
   ]
  },
  {
   "cell_type": "code",
   "execution_count": null,
   "metadata": {},
   "outputs": [],
   "source": [
    "# I want to know the number of times each count per hour occurred. \n",
    "\n",
    "hours_counted = Counter(list(c.values()))\n",
    "\n",
    "plt.figure('Number of times each number of cases per hour occurred')\n",
    "plt.bar(hours_counted.keys(), hours_counted.values())\n",
    "\n",
    "plt.xlabel('Number of cases within a single hour')\n",
    "plt.ylabel('Count number of cases occured in 1 hour')\n",
    "\n",
    "plt.show()"
   ]
  },
  {
   "cell_type": "markdown",
   "metadata": {},
   "source": [
    "# Want to see the number of cases that have been reached within r1 and r2"
   ]
  },
  {
   "cell_type": "code",
   "execution_count": null,
   "metadata": {},
   "outputs": [],
   "source": [
    "# to incident durations\n",
    "durations = [pandas.to_timedelta(array[7]) for array in  cases.values]\n",
    "r1 = timedelta(minutes=10)\n",
    "r2 = timedelta(minutes=14)"
   ]
  },
  {
   "cell_type": "code",
   "execution_count": null,
   "metadata": {},
   "outputs": [],
   "source": [
    "times = {\n",
    "    'lt_r1' : list(filter(lambda t: t <  r1, durations)),\n",
    "    'lt_r2' : list(filter(lambda t: t <  r2 and t >= r1, durations)),\n",
    "    'beyond': list(filter(lambda t: t >= r2, durations)),\n",
    "}\n",
    "\n",
    "counts = {k:len(v) for k,v in times.items()}\n",
    "counts"
   ]
  },
  {
   "cell_type": "code",
   "execution_count": null,
   "metadata": {},
   "outputs": [],
   "source": [
    "plt.figure(\"Travel times for the TO_INCIDENT events \")\n",
    "\n",
    "plt.bar(counts.keys(), counts.values())\n",
    "plt.xlabel(\"Event TO_INCIDENT times separated by travel time\"); plt.ylabel('Number of cases')\n",
    "plt.show()"
   ]
  },
  {
   "cell_type": "markdown",
   "metadata": {},
   "source": [
    "# Want to plot the histogram for the coverage"
   ]
  },
  {
   "cell_type": "code",
   "execution_count": null,
   "metadata": {},
   "outputs": [],
   "source": [
    "metrics = csvs[2]\n",
    "coverages = [(pandas.to_datetime(arr[0]), float(arr[1])) for arr in metrics.values]\n",
    "\n",
    "xs = [cov[0] for cov in coverages]\n",
    "ys = [cov[1] for cov in coverages]\n",
    "\n",
    "# list(map(print, xs))\n",
    "# list(map(print, ys))\n",
    "\n",
    "first = xs[0]\n",
    "xs = [(date-first).total_seconds()/3600 for date in xs]\n",
    "\n",
    "# Smoothed the original\n",
    "smooth_xs = np.linspace(int(min(xs)), int(max(xs)), len(xs)//4)\n",
    "\n",
    "spl = make_interp_spline(xs, ys, k=1)\n",
    "smooth_ys = spl(smooth_xs)\n",
    "\n",
    "\n",
    "plt.figure(\"Coverages over time \")\n",
    "plt.ylim(-0.1, 1.0)\n",
    "plt.xlabel(\"Number of hours since starting\"); plt.ylabel('Coverage')\n",
    "\n",
    "plt.plot(xs, ys, 'b.' )\n",
    "plt.plot(smooth_xs, smooth_ys, '-', color='red')\n",
    "\n",
    "plt.show()"
   ]
  },
  {
   "cell_type": "code",
   "execution_count": null,
   "metadata": {},
   "outputs": [],
   "source": []
  }
 ],
 "metadata": {
  "kernelspec": {
   "display_name": "Python 3",
   "language": "python",
   "name": "python3"
  },
  "language_info": {
   "codemirror_mode": {
    "name": "ipython",
    "version": 3
   },
   "file_extension": ".py",
   "mimetype": "text/x-python",
   "name": "python",
   "nbconvert_exporter": "python",
   "pygments_lexer": "ipython3",
   "version": "3.7.0"
  }
 },
 "nbformat": 4,
 "nbformat_minor": 2
}
