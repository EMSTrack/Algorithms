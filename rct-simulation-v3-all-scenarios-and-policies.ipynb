{
 "cells": [
  {
   "cell_type": "markdown",
   "metadata": {},
   "source": [
    "# Simulation of RCT EMS v3\n",
    "\n",
    "Three scenarios: \n",
    "- weekday\n",
    "- weekend\n",
    "- weekend with disaster\n",
    "\n",
    "Three dispatch policies for ambulance selection: \n",
    "- fastest ambulance \n",
    "- least coverage disruption\n",
    "- optimal by weighting travel time and coverage\n",
    "\n",
    "Nine total simulations, each compared. "
   ]
  },
  {
   "cell_type": "markdown",
   "metadata": {},
   "source": [
    "# Case count distributions\n",
    "\n",
    "Each simulation has 100 cases regardless of how the scenarios will play out. This should mean that the disaster scenario will finish 100 cases in less time because there is a disaster time slot where many cases occur. We want to see if this is the case by comparing the disaster scenarios against the weekday and weekend scenarios. The dispatch policy might affect the distributions, but probably not be too much. "
   ]
  },
  {
   "cell_type": "markdown",
   "metadata": {},
   "source": [
    "# Cases reached before r1: 10 minutes\n",
    "\n",
    "Since previous RCT studies looked at using the US EMS Act as the standard, we want to know how many cases are reached before the 10 minute requirement. If this is not reached, it's still helpful to know if the case was reached before the 14 minute secondary coverage requirement. \n",
    "\n",
    "Since Pons stated 8 minutes is the time when statistics actually found significant difference in case effectiveness, it may be useful to also know how many cases were reached before 8 minutes. "
   ]
  },
  {
   "cell_type": "code",
   "execution_count": null,
   "metadata": {},
   "outputs": [],
   "source": [
    "# Double coverage \n",
    "\n",
    "Plot the double coverage of the simulated RCTs over time. Here, the dispatch policy is import"
   ]
  }
 ],
 "metadata": {
  "kernelspec": {
   "display_name": "Python 3",
   "language": "python",
   "name": "python3"
  },
  "language_info": {
   "codemirror_mode": {
    "name": "ipython",
    "version": 3
   },
   "file_extension": ".py",
   "mimetype": "text/x-python",
   "name": "python",
   "nbconvert_exporter": "python",
   "pygments_lexer": "ipython3",
   "version": "3.7.0"
  }
 },
 "nbformat": 4,
 "nbformat_minor": 2
}
